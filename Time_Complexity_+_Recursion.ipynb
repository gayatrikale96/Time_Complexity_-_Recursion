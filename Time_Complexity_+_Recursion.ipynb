{
  "nbformat": 4,
  "nbformat_minor": 0,
  "metadata": {
    "colab": {
      "provenance": []
    },
    "kernelspec": {
      "name": "python3",
      "display_name": "Python 3"
    },
    "language_info": {
      "name": "python"
    }
  },
  "cells": [
    {
      "cell_type": "code",
      "execution_count": null,
      "metadata": {
        "id": "3YgZ3BJoE2se"
      },
      "outputs": [],
      "source": []
    },
    {
      "cell_type": "markdown",
      "source": [
        "**Problem 1: Quicksort**"
      ],
      "metadata": {
        "id": "Ew_tKYDcE4se"
      }
    },
    {
      "cell_type": "code",
      "source": [
        "def quicksort(arr):\n",
        "    if len(arr) <= 1:\n",
        "        return arr\n",
        "    pivot = arr[len(arr) // 2]\n",
        "    left = [x for x in arr if x < pivot]\n",
        "    middle = [x for x in arr if x == pivot]\n",
        "    right = [x for x in arr if x > pivot]\n",
        "    return quicksort(left) + middle + quicksort(right)\n"
      ],
      "metadata": {
        "id": "fc1D6F__E75a"
      },
      "execution_count": 1,
      "outputs": []
    },
    {
      "cell_type": "markdown",
      "source": [
        "How It Works:\n",
        "\n",
        "Pivot Selection: The algorithm selects a pivot element from the array. In this example, the pivot is the middle element.\n",
        "\n",
        "Partitioning: The array is divided into three parts:\n",
        "\n",
        "left: Elements less than the pivot.\n",
        "\n",
        "middle: Elements equal to the pivot.\n",
        "\n",
        "\n",
        "right: Elements greater than the pivot.\n",
        "\n",
        "Recursion: Quicksort is then applied recursively to the left and right sub-arrays.\n",
        "\n",
        "Combining: The final sorted array is obtained by combining the sorted left, middle, and right arrays.\n",
        "Time Complexity:\n",
        "\n",
        "Best/Average Case:\n",
        "\n",
        "𝑂\n",
        "(\n",
        "𝑛\n",
        "log\n",
        "⁡\n",
        "𝑛\n",
        ")\n",
        "O(nlogn)\n",
        "\n",
        "The array is split into roughly equal halves in each recursion, and this process repeats until the base case (array of length 1) is reached.\n",
        "Since there are approximately\n",
        "log\n",
        "⁡\n",
        "𝑛\n",
        "logn levels of recursion, and at each level, all\n",
        "𝑛\n",
        "n elements are processed, the total time complexity is\n",
        "𝑂\n",
        "(\n",
        "𝑛\n",
        "log\n",
        "⁡\n",
        "𝑛\n",
        ")\n",
        "O(nlogn).\n",
        "Worst Case:\n",
        "𝑂\n",
        "(\n",
        "𝑛\n",
        "2\n",
        ")\n",
        "O(n\n",
        "2\n",
        " )\n",
        "\n",
        "\n",
        "The worst case occurs when the pivot is the smallest or largest element in the array, leading to highly unbalanced partitions (one partition with all elements except the pivot).\n",
        "In this case, the recursion tree has\n",
        "𝑛\n",
        "n levels, and at each level, all elements are processed, leading to a time complexity of\n",
        "𝑂\n",
        "(\n",
        "𝑛\n",
        "2\n",
        ")\n",
        "O(n\n",
        "2\n",
        " )."
      ],
      "metadata": {
        "id": "lvVODvM0FAZP"
      }
    },
    {
      "cell_type": "markdown",
      "source": [
        "**Problem 2: Nested Loop Example**"
      ],
      "metadata": {
        "id": "TmCmq50RFb7w"
      }
    },
    {
      "cell_type": "code",
      "source": [
        "def nested_loop_example(matrix):\n",
        "    rows, cols = len(matrix), len(matrix[0])\n",
        "    total = 0\n",
        "    for i in range(rows):\n",
        "        for j in range(cols):\n",
        "            total += matrix[i][j]\n",
        "    return total\n"
      ],
      "metadata": {
        "id": "ZDPmHZCfFfIC"
      },
      "execution_count": 2,
      "outputs": []
    },
    {
      "cell_type": "markdown",
      "source": [
        "\n",
        "\n",
        "The function iterates over each element in a 2D matrix (a list of lists) and sums them up.\n",
        "Time Complexity:\n",
        "\n",
        "Time Complexity:\n",
        "𝑂\n",
        "(\n",
        "𝑛\n",
        "×\n",
        "𝑚\n",
        ")\n",
        "O(n×m), where\n",
        "𝑛\n",
        "n is the number of rows and\n",
        "𝑚\n",
        "m is the number of columns.\n",
        "The outer loop runs\n",
        "𝑛\n",
        "n times, and the inner loop runs\n",
        "𝑚\n",
        "m times for each row, leading to a total of\n",
        "𝑛\n",
        "×\n",
        "𝑚\n",
        "n×m operations."
      ],
      "metadata": {
        "id": "fNY-D5HDFg4K"
      }
    },
    {
      "cell_type": "markdown",
      "source": [
        "**Problem 3: Single Loop Example**"
      ],
      "metadata": {
        "id": "4M41qnSJFldh"
      }
    },
    {
      "cell_type": "code",
      "source": [
        "def example_function(arr):\n",
        "    result = 0\n",
        "    for element in arr:\n",
        "        result += element\n",
        "    return result\n"
      ],
      "metadata": {
        "id": "ptzurxxbFoiz"
      },
      "execution_count": 3,
      "outputs": []
    },
    {
      "cell_type": "markdown",
      "source": [
        "\n",
        "\n",
        "The function iterates through a 1D array (list) and sums all its elements.\n",
        "Time Complexity:\n",
        "\n",
        "Time Complexity:\n",
        "𝑂\n",
        "(\n",
        "𝑛\n",
        ")\n",
        "O(n)\n",
        "The function performs a single pass through the array, making the time complexity linear with respect to the number of elements\n",
        "𝑛\n",
        "n."
      ],
      "metadata": {
        "id": "YAtzJG5WFquB"
      }
    },
    {
      "cell_type": "markdown",
      "source": [
        "**Problem 4: Longest Increasing Subsequence (LIS)**"
      ],
      "metadata": {
        "id": "hwIJ7qGTFul8"
      }
    },
    {
      "cell_type": "code",
      "source": [
        "def longest_increasing_subsequence(nums):\n",
        "    n = len(nums)\n",
        "    lis = [1] * n\n",
        "    for i in range(1, n):\n",
        "        for j in range(0, i):\n",
        "            if nums[i] > nums[j] and lis[i] < lis[j] + 1:\n",
        "                lis[i] = lis[j] + 1\n",
        "    return max(lis)\n"
      ],
      "metadata": {
        "id": "cVW9oKkxF0WJ"
      },
      "execution_count": 4,
      "outputs": []
    },
    {
      "cell_type": "markdown",
      "source": [
        "\n",
        "\n",
        "Initialization: A list lis is initialized where each element is 1, representing the minimum length of an increasing subsequence ending at each index.\n",
        "\n",
        "Nested Loops: The algorithm checks all previous elements to see if a longer increasing subsequence can be formed by extending a previous subsequence.\n",
        "\n",
        "Final Result: The length of the longest increasing subsequence is the maximum value in the lis array.\n",
        "\n",
        "Time Complexity:\n",
        "\n",
        "Time Complexity:\n",
        "𝑂\n",
        "(\n",
        "𝑛\n",
        "2\n",
        ")\n",
        "O(n\n",
        "2\n",
        " )\n",
        "There are two nested loops: the outer loop runs\n",
        "𝑛\n",
        "n times, and for each iteration, the inner loop can run up to\n",
        "𝑖\n",
        "i times, leading to a quadratic time complexity."
      ],
      "metadata": {
        "id": "zDv4sxJfF2p_"
      }
    },
    {
      "cell_type": "markdown",
      "source": [
        "**Problem 5: Mysterious Function**"
      ],
      "metadata": {
        "id": "JxaOqZDKF9Kn"
      }
    },
    {
      "cell_type": "code",
      "source": [
        "def mysterious_function(arr):\n",
        "    n = len(arr)\n",
        "    result = 0\n",
        "    for i in range(n):\n",
        "        for j in range(i, n):\n",
        "            result += arr[i] * arr[j]\n",
        "    return result\n"
      ],
      "metadata": {
        "id": "ZGXT6kFvGAwT"
      },
      "execution_count": 5,
      "outputs": []
    },
    {
      "cell_type": "markdown",
      "source": [
        "The function iterates through all possible pairs of elements in the array, including pairs where both elements are the same, and accumulates their product.\n",
        "Time Complexity:\n",
        "\n",
        "Time Complexity:\n",
        "𝑂\n",
        "(\n",
        "𝑛\n",
        "2\n",
        ")\n",
        "O(n\n",
        "2\n",
        " )\n",
        "The outer loop runs\n",
        "𝑛\n",
        "n times, and for each iteration, the inner loop runs up to\n",
        "𝑛\n",
        "−\n",
        "𝑖\n",
        "n−i times, leading to a quadratic time complexity."
      ],
      "metadata": {
        "id": "a4Hxr6bzGC_P"
      }
    },
    {
      "cell_type": "markdown",
      "source": [
        "**Problem 6: Sum of Digits (Recursive)**"
      ],
      "metadata": {
        "id": "KQLS8qADGG50"
      }
    },
    {
      "cell_type": "code",
      "source": [
        "def sum_of_digits(n):\n",
        "    if n == 0:\n",
        "        return 0\n",
        "    else:\n",
        "        return n % 10 + sum_of_digits(n // 10)\n",
        "\n"
      ],
      "metadata": {
        "id": "2kZDNatpGJuM"
      },
      "execution_count": 6,
      "outputs": []
    },
    {
      "cell_type": "markdown",
      "source": [
        "Base Case: The recursion stops when\n",
        "𝑛\n",
        "n becomes 0.\n",
        "\n",
        "Recursive Case: The last digit of\n",
        "𝑛\n",
        "n (obtained using\n",
        "𝑛\n",
        "%\n",
        "10\n",
        "n%10) is added to the sum of the digits of\n",
        "𝑛\n",
        "n divided by 10 (which removes the last digit).\n",
        "\n",
        "Time Complexity:\n",
        "\n",
        "𝑂\n",
        "(\n",
        "log\n",
        "⁡\n",
        "𝑛\n",
        ")\n",
        "O(logn)\n",
        "The number of digits in\n",
        "𝑛\n",
        "n determines the depth of the recursion. Since the number of digits is proportional to\n",
        "log\n",
        "⁡\n",
        "10\n",
        "𝑛\n",
        "log\n",
        "10\n",
        "​\n",
        " n, the time complexity is logarithmic."
      ],
      "metadata": {
        "id": "XAXgI8IqGOoM"
      }
    },
    {
      "cell_type": "markdown",
      "source": [
        "**Problem 7: Fibonacci Series (Recursive)**"
      ],
      "metadata": {
        "id": "KyPamV-ZGVfU"
      }
    },
    {
      "cell_type": "code",
      "source": [
        "def fibonacci_series(n):\n",
        "    if n == 0:\n",
        "        return [0]\n",
        "    elif n == 1:\n",
        "        return [0, 1]\n",
        "    else:\n",
        "        series = fibonacci_series(n - 1)\n",
        "        series.append(series[-1] + series[-2])\n",
        "        return series\n"
      ],
      "metadata": {
        "id": "medMOa_eGeyS"
      },
      "execution_count": 7,
      "outputs": []
    },
    {
      "cell_type": "markdown",
      "source": [
        "Base Cases: The series starts with [0] for\n",
        "𝑛\n",
        "=\n",
        "0\n",
        "n=0 and [0, 1] for\n",
        "𝑛\n",
        "=\n",
        "1\n",
        "n=1.\n",
        "\n",
        "Recursive Case: The function builds the series by adding the last two numbers of the previous series.\n",
        "\n",
        "\n",
        "Time Complexity:\n",
        "𝑂\n",
        "(\n",
        "2\n",
        "𝑛\n",
        ")\n",
        "O(2\n",
        "n\n",
        " )\n",
        "The recursive approach without memoization has an exponential time complexity due to the repeated calculation of Fibonacci numbers for each recursive call."
      ],
      "metadata": {
        "id": "HE-rY09zGjqA"
      }
    },
    {
      "cell_type": "markdown",
      "source": [
        "**Problem 8: Subset Sum (Recursive)**"
      ],
      "metadata": {
        "id": "eupQ430cGniA"
      }
    },
    {
      "cell_type": "code",
      "source": [
        "def subset_sum(nums, target):\n",
        "    if target == 0:\n",
        "        return True\n",
        "    if not nums:\n",
        "        return False\n",
        "    return subset_sum(nums[1:], target) or subset_sum(nums[1:], target - nums[0])\n"
      ],
      "metadata": {
        "id": "0MQShXjUGsPk"
      },
      "execution_count": 8,
      "outputs": []
    },
    {
      "cell_type": "markdown",
      "source": [
        "Base Cases: If the target sum is 0, return True. If there are no numbers left, return False.\n",
        "\n",
        "Recursive Case: The function checks if the target can be reached either by including the first number in the subset or excluding it.\n",
        "\n",
        "\n",
        "Time Complexity:\n",
        "𝑂\n",
        "(\n",
        "2\n",
        "𝑛\n",
        ")\n",
        "O(2\n",
        "n\n",
        " )\n",
        "The function explores all possible subsets, leading to an exponential time complexity."
      ],
      "metadata": {
        "id": "H93Fu54kGuM2"
      }
    },
    {
      "cell_type": "markdown",
      "source": [
        "**Problem 9: Word Break (Recursive)**"
      ],
      "metadata": {
        "id": "MT39yxiVGzhw"
      }
    },
    {
      "cell_type": "code",
      "source": [
        "def word_break(s, word_dict):\n",
        "    if not s:\n",
        "        return True\n",
        "    for word in word_dict:\n",
        "        if s.startswith(word):\n",
        "            if word_break(s[len(word):], word_dict):\n",
        "                return True\n",
        "    return False\n"
      ],
      "metadata": {
        "id": "J5dDA8HQG2O2"
      },
      "execution_count": 9,
      "outputs": []
    },
    {
      "cell_type": "markdown",
      "source": [
        "Base Case: If the string is empty, return True.\n",
        "Recursive Case: The function checks if the string starts with any word in the dictionary and then recursively attempts to segment the remaining part.\n",
        "\n",
        "Time Complexity:\n",
        "𝑂\n",
        "(\n",
        "2\n",
        "𝑛\n",
        ")\n",
        "O(2\n",
        "n\n",
        " )\n",
        "The function tries all possible segmentations, leading to an exponential time complexity in the worst case"
      ],
      "metadata": {
        "id": "o1Z4wrC7G4IN"
      }
    },
    {
      "cell_type": "markdown",
      "source": [
        "**Problem 10: N-Queens (Recursive)**"
      ],
      "metadata": {
        "id": "EEhj0NjkG878"
      }
    },
    {
      "cell_type": "code",
      "source": [
        "def n_queens(n):\n",
        "    def solve(board, row):\n",
        "        if row == n:\n",
        "            return [[\"\".join(r) for r in board]]\n",
        "        solutions = []\n",
        "        for col in range(n):\n",
        "            if all(board[r][col] == \".\" and abs(col - c) != row - r for r, c in enumerate(board[:row])):\n",
        "                board[row][col] = \"Q\"\n",
        "                solutions += solve(board, row + 1)\n",
        "                board[row][col] = \".\"\n",
        "        return solutions\n",
        "    return solve([[\".\"] * n for _ in range(n)], 0)\n"
      ],
      "metadata": {
        "id": "RtPqzD_NG_2o"
      },
      "execution_count": 10,
      "outputs": []
    },
    {
      "cell_type": "markdown",
      "source": [
        "Base Case: The solution is complete when all queens are placed (i.e., when row == n).\n",
        "\n",
        "Recursive Case: The function tries to place a queen in each column of the current row and checks if it’s safe to place the queen.\n",
        "Time Complexity:\n",
        "\n",
        "Time Complexity:\n",
        "𝑂\n",
        "(\n",
        "𝑛\n",
        "!\n",
        ")\n",
        "O(n!)\n",
        "There are\n",
        "𝑛\n",
        "!\n",
        "n! possible ways to place\n",
        "𝑛\n",
        "n queens on an\n",
        "𝑛\n",
        "×\n",
        "𝑛\n",
        "n×n chessboard, leading to factorial time complexity."
      ],
      "metadata": {
        "id": "IOuz2p15HCdU"
      }
    }
  ]
}